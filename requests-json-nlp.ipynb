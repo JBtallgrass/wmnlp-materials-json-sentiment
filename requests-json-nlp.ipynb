{
 "cells": [
  {
   "cell_type": "markdown",
   "metadata": {},
   "source": [
    "# Web Mining and Applied NLP (44-620)\n",
    "\n",
    "## Requests, JSON, and NLP\n",
    "\n",
    "### Student Name: Jason Ballard\n",
    "\n",
    "Perform the tasks described in the Markdown cells below.  When you have completed the assignment make sure your code cells have all been run (and have output beneath them) and ensure you have committed and pushed ALL of your changes to your assignment repository.\n",
    "\n",
    "Make sure you have [installed spaCy and its pipeline](https://spacy.io/usage#quickstart) and [spaCyTextBlob](https://spacy.io/universe/project/spacy-textblob)\n",
    "\n",
    "Every question that requires you to write code will have a code cell underneath it; you may either write your entire solution in that cell or write it in a python file (`.py`), then import and run the appropriate code to answer the question.\n",
    "\n",
    "This assignment requires that you write additional files (either JSON or pickle files); make sure to submit those files in your repository as well."
   ]
  },
  {
   "cell_type": "markdown",
   "metadata": {},
   "source": [
    "1. The following code accesses the [lyrics.ovh](https://lyricsovh.docs.apiary.io/#reference/0/lyrics-of-a-song/search) public api, searches for the lyrics of a song, and stores it in a dictionary object.  Write the resulting json to a file (either a JSON file or a pickle file; you choose). You will read in the contents of this file for future questions so we do not need to frequently access the API."
   ]
  },
  {
   "cell_type": "markdown",
   "metadata": {},
   "source": [
    "## Dependencies "
   ]
  },
  {
   "cell_type": "code",
   "execution_count": 18,
   "metadata": {},
   "outputs": [],
   "source": [
    "import requests\n",
    "import json\n",
    "import pickle\n",
    "from textblob import TextBlob\n",
    "from spacytextblob import spacytextblob\n",
    "import spacy\n",
    "#result = json.loads(requests.get('https://api.lyrics.ovh/v1/They Might Be Giants/Birdhouse in your soul').text)"
   ]
  },
  {
   "cell_type": "markdown",
   "metadata": {},
   "source": [
    "2. Read in the contents of your file.  Print the lyrics of the song (not the entire dictionary!) and use spaCyTextBlob to perform sentiment analysis on the lyrics.  Print the polarity score of the sentiment analysis. Given that the range of the polarity score is `[-1.0,1.0]` which corresponds to how positive or negative the text in question is, do you think the lyrics have a more positive or negative connotaion?  Answer this question in a comment in your code cell."
   ]
  },
  {
   "cell_type": "markdown",
   "metadata": {},
   "source": [
    "## Question 1"
   ]
  },
  {
   "cell_type": "code",
   "execution_count": null,
   "metadata": {},
   "outputs": [
    {
     "name": "stdout",
     "output_type": "stream",
     "text": [
      "Sentiment Polarity Score: 0.04505208333333333\n",
      "The lyrics have a positive connotation.\n"
     ]
    }
   ],
   "source": [
    "# Load spaCy model and add TextBlob component\n",
    "nlp = spacy.load('en_core_web_sm')\n",
    "nlp.add_pipe('spacytextblob')\n",
    "\n",
    "def save_lyrics_to_file(artist, song, filename):\n",
    "    \"\"\"\n",
    "    Fetches lyrics from API and saves them to a file.\n",
    "    Returns True if successful, False otherwise.\n",
    "    \"\"\"\n",
    "    try:\n",
    "        url = f'https://api.lyrics.ovh/v1/They Might Be Giants/Birdhouse in your soul'\n",
    "        response = requests.get(url)\n",
    "        result = json.loads(response.text)\n",
    "        \n",
    "        # Check if lyrics exist in the response\n",
    "        if 'lyrics' not in result:\n",
    "            print(\"Lyrics not found.\")\n",
    "            return False\n",
    "        \n",
    "        # Save to file (using pickle in this case)\n",
    "        with open(filename, 'wb') as f:\n",
    "            pickle.dump(result, f)\n",
    "        return True\n",
    "    except Exception as e:\n",
    "        print(f\"Error: {e}\")\n",
    "        return False\n",
    "\n",
    "def analyze_lyrics(filename):\n",
    "    \"\"\"\n",
    "    Reads lyrics from file and performs sentiment analysis.\n",
    "    Returns polarity score.\n",
    "    \"\"\"\n",
    "    try:\n",
    "        # Read the lyrics from file\n",
    "        with open(filename, 'rb') as f:\n",
    "            data = pickle.load(f)\n",
    "        \n",
    "        # Ensure 'lyrics' key exists\n",
    "        if 'lyrics' not in data:\n",
    "            print(\"No lyrics found in the file.\")\n",
    "            return None\n",
    "\n",
    "        # Process with spaCy\n",
    "        doc = nlp(data['lyrics'])\n",
    "        polarity = doc._.blob.polarity\n",
    "        \n",
    "        # Print polarity score\n",
    "        print(f\"Sentiment Polarity Score: {polarity}\")\n",
    "        \n",
    "        # Interpret the score\n",
    "        if polarity > 0:\n",
    "            print(\"The lyrics have a positive connotation.\")\n",
    "        elif polarity < 0:\n",
    "            print(\"The lyrics have a negative connotation.\")\n",
    "        else:\n",
    "            print(\"The lyrics have a neutral connotation.\")\n",
    "            \n",
    "        return polarity\n",
    "        \n",
    "    except Exception as e:\n",
    "        print(f\"Error: {e}\")\n",
    "        return None\n",
    "\n",
    "# Example usage:\n",
    "filename = 'song_lyrics.pkl'\n",
    "\n",
    "# First, save the lyrics\n",
    "if save_lyrics_to_file('They Might Be Giants', 'Birdhouse in Your Soul', filename):\n",
    "    # Then analyze them\n",
    "    polarity = analyze_lyrics(filename)\n",
    "\n",
    "#Comment \n",
    "# Sentiment Polarity Score: 0.04505208333333333\n",
    "# The lyrics have a positive connotation.\n"
   ]
  },
  {
   "cell_type": "markdown",
   "metadata": {},
   "source": [
    "## Question 2 "
   ]
  },
  {
   "cell_type": "markdown",
   "metadata": {},
   "source": [
    "Write a function that takes an artist, song, and filename, accesses the lyrics.ovh api to get the song lyrics, and writes the results to the specified filename.  Test this function by getting the lyrics to any four songs of your choice and storing them in different files."
   ]
  },
  {
   "cell_type": "code",
   "execution_count": 21,
   "metadata": {},
   "outputs": [
    {
     "name": "stdout",
     "output_type": "stream",
     "text": [
      "Lyrics saved to love_story.pkl.\n",
      "Lyrics saved to yellow.pkl.\n",
      "Lyrics saved to hello.pkl.\n",
      "Lyrics saved to shape_of_you.pkl.\n"
     ]
    }
   ],
   "source": [
    "def fetch_and_save_lyrics(artist, song, filename):\n",
    "    \"\"\"\n",
    "    Fetches lyrics from the lyrics.ovh API and writes the results to the specified filename.\n",
    "    \n",
    "    Args:\n",
    "        artist (str): The name of the artist.\n",
    "        song (str): The name of the song.\n",
    "        filename (str): The name of the file to save the lyrics.\n",
    "\n",
    "    Returns:\n",
    "        bool: True if lyrics were successfully saved, False otherwise.\n",
    "    \"\"\"\n",
    "    try:\n",
    "        # Create the API URL\n",
    "        url = f'https://api.lyrics.ovh/v1/{artist}/{song}'\n",
    "        \n",
    "        # Fetch lyrics from the API\n",
    "        response = requests.get(url)\n",
    "        if response.status_code != 200:\n",
    "            print(f\"Failed to fetch lyrics for {artist} - {song}. Status Code: {response.status_code}\")\n",
    "            return False\n",
    "        \n",
    "        # Parse the JSON response\n",
    "        result = response.json()\n",
    "        \n",
    "        # Check if 'lyrics' key exists\n",
    "        if 'lyrics' not in result:\n",
    "            print(f\"Lyrics not found for {artist} - {song}.\")\n",
    "            return False\n",
    "        \n",
    "        # Save the lyrics to the specified file\n",
    "        with open(filename, 'wb') as file:\n",
    "            pickle.dump(result, file)\n",
    "        print(f\"Lyrics saved to {filename}.\")\n",
    "        return True\n",
    "    except Exception as e:\n",
    "        print(f\"Error fetching or saving lyrics: {e}\")\n",
    "        return False\n",
    "\n",
    "# Test the function with four songs\n",
    "songs = [\n",
    "    (\"Taylor Swift\", \"Love Story\", \"love_story.pkl\"),\n",
    "    (\"Coldplay\", \"Yellow\", \"yellow.pkl\"),\n",
    "    (\"Adele\", \"Hello\", \"hello.pkl\"),\n",
    "    (\"Ed Sheeran\", \"Shape of You\", \"shape_of_you.pkl\")\n",
    "]\n",
    "\n",
    "for artist, song, filename in songs:\n",
    "    fetch_and_save_lyrics(artist, song, filename)\n"
   ]
  },
  {
   "cell_type": "markdown",
   "metadata": {},
   "source": [
    "## Question 3 "
   ]
  },
  {
   "cell_type": "markdown",
   "metadata": {},
   "source": [
    "Write a function that takes the name of a file that contains song lyrics, loads the file, performs sentiment analysis, and returns the polarity score.  Use this function to print the polarity scores (with the name of the song) of the three files you created in question 3.  Does the reported polarity match your understanding of the song's lyrics? Why or why not do you think that might be?  Answer the questions in either a comment in the code cell or a markdown cell under the code cell."
   ]
  }
 ],
 "metadata": {
  "kernelspec": {
   "display_name": ".env",
   "language": "python",
   "name": "python3"
  },
  "language_info": {
   "codemirror_mode": {
    "name": "ipython",
    "version": 3
   },
   "file_extension": ".py",
   "mimetype": "text/x-python",
   "name": "python",
   "nbconvert_exporter": "python",
   "pygments_lexer": "ipython3",
   "version": "3.12.4"
  }
 },
 "nbformat": 4,
 "nbformat_minor": 4
}
